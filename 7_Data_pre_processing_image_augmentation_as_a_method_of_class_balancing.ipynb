{
  "nbformat": 4,
  "nbformat_minor": 0,
  "metadata": {
    "colab": {
      "name": "7. Data pre-processing: image augmentation as a method of class balancing.ipynb",
      "provenance": [],
      "include_colab_link": true
    },
    "kernelspec": {
      "name": "python3",
      "display_name": "Python 3"
    },
    "language_info": {
      "name": "python"
    }
  },
  "cells": [
    {
      "cell_type": "markdown",
      "metadata": {
        "id": "view-in-github",
        "colab_type": "text"
      },
      "source": [
        "<a href=\"https://colab.research.google.com/github/Sicily-F/cagedbirdID/blob/main/7_Data_pre_processing_image_augmentation_as_a_method_of_class_balancing.ipynb\" target=\"_parent\"><img src=\"https://colab.research.google.com/assets/colab-badge.svg\" alt=\"Open In Colab\"/></a>"
      ]
    },
    {
      "cell_type": "markdown",
      "metadata": {
        "id": "rr-GX1mEVEFw"
      },
      "source": [
        "# Offline data augmentation using the imgaug package"
      ]
    },
    {
      "cell_type": "code",
      "metadata": {
        "id": "PzQeArcxVA2I"
      },
      "source": [
        "from imgaug import augmenters as iaa\n",
        "import imgaug as ia #need to use ia.show for example\n",
        "import os, random\n",
        "import PIL\n",
        "import shutil\n",
        "from PIL import Image\n",
        "import cv2\n",
        "import numpy as np\n",
        "import matplotlib.pyplot as plt\n",
        "import matplotlib.image as mpimg\n",
        "import glob\n",
        "from pathlib import Path\n",
        "import io\n",
        "import imageio\n",
        "from os import listdir\n",
        "from skimage import img_as_ubyte#to address  conversion error\n"
      ],
      "execution_count": null,
      "outputs": []
    },
    {
      "cell_type": "markdown",
      "metadata": {
        "id": "QbwgH4S9y071"
      },
      "source": [
        "Data augmentation is a useful way to increase the size of your dataset. It can be used for various purposes such as to balance the size of classes or to increase the size of your training set more generally. This offline form of augmentation was used to balance the number of photos in each class. As a result, we had equal numbers of photos for each species class, before training. Before we start the augmentation process, it is worth having a look at what file types are in your dataset, and how your files are named. If you have unsupported file types in your dataset, or have spaces in the file names for example, this can interrupt the process of image augmentation. As the process halts wherever the image is in the folder, this can mean that the process is lengthy, as you would have to delete the newest augmented files, and then re-run the function. \n",
        "\n",
        "\n",
        "Another thing to be aware of is the desktop.ini file\n",
        "(https://www.addictivetips.com/windows-tips/hide-desktop-ini-files-windows-10/). This file is a text file that allows you to specify how a file system folder is viewed. If it is visible in the folder containing your images for augmentation, this may mean that the all the photos cannot be processed and as such the code below might stop at a certain point."
      ]
    },
    {
      "cell_type": "code",
      "metadata": {
        "id": "beXtEbSXyQFW"
      },
      "source": [
        "# This code allows you to rename all the photos in your folder, below is the path where the photos of a species called the Japanese grosbeak were stored\n",
        "# When running for loops on a whole folder of images it is best to have filenames which make sense to you, and with no spaces or unusual characters\n",
        "collection = \"F:/all_species_augmented_croppe/to_augment/grosbeak\"\n",
        "# The code below ensures that each file in the grosbeak folder is renamed to grosbeak followed by sequential numbers starting at 0\n",
        "for i, filename in enumerate(os.listdir(collection)): \n",
        "    os.rename(\"F:/all_species_augmented_croppe/to_augment/grosbeak/\" + filename, \"F:/all_species_augmented_croppe/to_augment/grosbeak/\" + \"grosbeak\" + str(i) + \".jpg\")  \n",
        "    "
      ],
      "execution_count": null,
      "outputs": []
    },
    {
      "cell_type": "markdown",
      "metadata": {
        "id": "YRsEM3D5Vn-P"
      },
      "source": [
        "Another thing to note is that, due to various bugs and issues in initial experimentation, this code *only* reliably works for one folder at a time. Let's say you have a folder with sub-folders per species, depending on your RAM and the speed of the processor on your computer, we tried out different folder structures and found if you had a folder with one subfolder in, this was more manageable computation-wise. This aligns with our methods, since we ran the Megadetecor (see. file no.6) on each species. Attempts will be made to update this is in the future though.\n",
        "\n"
      ]
    },
    {
      "cell_type": "code",
      "metadata": {
        "id": "x0mITfYPs61E"
      },
      "source": [
        "# Note the path might look like this intially: 'F:/git/to-aug/bw_leafbird', let's say if you copy and pasted the folder, but it should actually look like this path = 'F:\\\\git\\\\to-aug', which will work on the only subfolder in the directory, bw_leafbird\n",
        "path = 'F:\\\\git\\\\bw_leafbird'\n"
      ],
      "execution_count": null,
      "outputs": []
    },
    {
      "cell_type": "code",
      "metadata": {
        "id": "cVSoILOpVrFQ"
      },
      "source": [
        "# The below code is sampled heavily from here: 'A simple and common augmentation sequence': https://imgaug.readthedocs.io/en/latest/source/examples_basics.html\n",
        "\n",
        "# Using a seed makes the randomization reproducible\n",
        "iaa.seed(2) \n",
        "\n",
        "seq = iaa.Sequential([\n",
        "    iaa.Fliplr(0.5),\n",
        "    iaa.Crop(percent=(0, 0.1)),\n",
        "    iaa.Affine(rotate=(-25,25))\n",
        "], random_order=True)\n",
        "\n",
        "\n",
        "seq = iaa.Sequential([\n",
        "    iaa.Fliplr(0.5), # horizontal flips\n",
        "    iaa.Crop(percent=(0, 0.1)), # random crops\n",
        "    # Small gaussian blur with random sigma between 0 and 0.5.\n",
        "    # But we only blur about 50% of all images.\n",
        "    iaa.Sometimes(\n",
        "        0.5,\n",
        "        iaa.GaussianBlur(sigma=(0, 0.5))\n",
        "    ),\n",
        "    # Strengthen or weaken the contrast in each image.\n",
        "    iaa.LinearContrast((0.75, 1.5)),\n",
        "    # Add gaussian noise.\n",
        "    # For 50% of all images, we sample the noise once per pixel.\n",
        "    # For the other 50% of all images, we sample the noise per pixel AND\n",
        "    # channel. This can change the color (not only brightness) of the\n",
        "    # pixels.\n",
        "    iaa.AdditiveGaussianNoise(loc=0, scale=(0.0, 0.05*255), per_channel=0.5),\n",
        "    # Make some images brighter and some darker.\n",
        "    # In 20% of all cases, we sample the multiplier once per channel,\n",
        "    # which can end up changing the color of the images.\n",
        "    iaa.Multiply((0.8, 1.2), per_channel=0.2),\n",
        "    # Apply affine transformations to each image.\n",
        "    # Scale/zoom them, translate/move them, rotate them and shear them.\n",
        "    iaa.Affine(\n",
        "        scale={\"x\": (0.8, 1.2), \"y\": (0.8, 1.2)},\n",
        "        translate_percent={\"x\": (-0.2, 0.2), \"y\": (-0.2, 0.2)},\n",
        "        rotate=(-25, 25),\n",
        "        shear=(-8, 8)\n",
        "    )\n",
        "], random_order=True) "
      ],
      "execution_count": null,
      "outputs": []
    },
    {
      "cell_type": "code",
      "metadata": {
        "id": "IsT-gDSHuBUM"
      },
      "source": [
        "for folder in os.listdir(path):\n",
        "    i = 0  # This makes the for loop start from the first file in the directory\n",
        "    for fname in os.listdir(path + '\\\\' + folder):  \n",
        "        img = cv2.imread(path + '\\\\' + folder + '\\\\' + fname, cv2.COLOR_BGR2RGB) https://stackoverflow.com/questions/39316447/opencv-giving-wrong-color-to-colored-images-on-loading, colours are back to front\n",
        "        img = img.astype(np.uint8) \n",
        "        print('Original:')\n",
        "        ia.imshow(img)\n",
        "        img_aug = seq.augment_image(img)\n",
        "        print('Augmented:')\n",
        "        ia.imshow(img_aug)\n",
        "        cv2.imwrite(os.path.join(path, path + '\\\\' + folder + '\\\\' + folder + \"%06d.png\" % (i,)), img_aug)  # This exports your c\n",
        "        i += 1\n",
        "\n",
        "# Any issues with this code, check your error codes here: https://stackoverflow.com/questions/32225348/os-listdir-showing-file-actually-not-in-the-folder-on-python-and-windows,\n",
        "# Relating to image loading, check here: https://stackoverflow.com/questions/39316447/opencv-giving-wrong-color-to-colored-images-on-loading\n",
        "\n",
        "        "
      ],
      "execution_count": null,
      "outputs": []
    },
    {
      "cell_type": "markdown",
      "metadata": {
        "id": "Pu2hPN0vDZ_n"
      },
      "source": [
        "## The value of class balancing\n",
        "Because one round of augmentation was performed per photo, we had to standardise the number of photos per class after augmentation was performed.\n",
        "\n",
        "There are other ways to do this, which may be more parsimonious, however, this was a quick hacky solution which I chose.\n",
        "\n",
        "In this piece of code below, let's say we want to have a range of 210-260 photos per species, if we duplicate a ground truth dataset of 150 photos, then we will end up with 300 photos post-augmentation. We can randomly remove 50 files using this code, to get us back down to 250.\n",
        "\n",
        "For the example code below, we clicked on the folder via the File Explorer, locally, to see the number of photos. For the class below, the bw_leafbird (blue-winged leafbird), there are 348 photos post-augmentation, so we will remove 98 photos randomly to have a final 250 photos"
      ]
    },
    {
      "cell_type": "code",
      "metadata": {
        "id": "JBCElW1byv0x"
      },
      "source": [
        "folder = 'F:/git/to-aug/bw_leafbird'\n",
        "files = os.listdir(folder)  # Get filenames in current folder\n",
        "files = random.sample(files, 98)  # Pick x random files\n",
        "for file in files:  # Go over each file name to be deleted\n",
        "    f = os.path.join(folder, file)  # Create valid path to file\n",
        "    os.remove(f)  # Remove the file   \n",
        " "
      ],
      "execution_count": null,
      "outputs": []
    },
    {
      "cell_type": "markdown",
      "metadata": {
        "id": "_w33mMSf2x2e"
      },
      "source": [
        "Since the photos were randomly removed, the file numbers were no longer sequential. You can rename the file names consecutively using the below code."
      ]
    },
    {
      "cell_type": "code",
      "metadata": {
        "id": "niArajSpF_-7"
      },
      "source": [
        "# This is a bit hacky, but you may need to run this function twice, for example to change the name from bw_leafbird to bw_leafbirds and then re-run the function back to bw_leafbird\n",
        "\n",
        "# So from this\n",
        "collection = \"F:/git/to-aug/bw_leafbird\"\n",
        "# The code below ensures that each file in the grosbeak folder is renamed to grosbeak followed by sequential numbers starting at 0\n",
        "for i, filename in enumerate(os.listdir(collection)): \n",
        "    os.rename(\"F:/git/to-aug/bw_leafbird/\" + filename, \"F:/git/to-aug/bw_leafbird/\" + \"bw_leafbirds\" + str(i) + \".jpg\")  \n",
        "    \n",
        "# Then back to this, to convert \n",
        "collection = \"F:/git/to-aug/bw_leafbird\"\n",
        "for i, filename in enumerate(os.listdir(collection)): \n",
        "    os.rename(\"F:/git/to-aug/bw_leafbird/\" + filename, \"F:/git/to-aug/bw_leafbird/\" + \"bw_leafbird\" + str(i) + \".jpg\")  \n",
        "    \n",
        "    "
      ],
      "execution_count": null,
      "outputs": []
    }
  ]
}